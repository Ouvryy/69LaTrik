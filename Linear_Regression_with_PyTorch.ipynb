{
  "nbformat": 4,
  "nbformat_minor": 0,
  "metadata": {
    "colab": {
      "provenance": [],
      "authorship_tag": "ABX9TyO1XYzJBXnfHvvM6Jbgyx3S",
      "include_colab_link": true
    },
    "kernelspec": {
      "name": "python3",
      "display_name": "Python 3"
    },
    "language_info": {
      "name": "python"
    }
  },
  "cells": [
    {
      "cell_type": "markdown",
      "metadata": {
        "id": "view-in-github",
        "colab_type": "text"
      },
      "source": [
        "<a href=\"https://colab.research.google.com/github/Ouvryy/69LaTrik/blob/main/Linear_Regression_with_PyTorch.ipynb\" target=\"_parent\"><img src=\"https://colab.research.google.com/assets/colab-badge.svg\" alt=\"Open In Colab\"/></a>"
      ]
    },
    {
      "cell_type": "code",
      "execution_count": 25,
      "metadata": {
        "id": "ZFm7UYfqTgKw"
      },
      "outputs": [],
      "source": [
        "import numpy as np\n",
        "import matplotlib.pyplot as plt\n",
        "import seaborn as sns\n",
        "import torch\n",
        "from torch import nn"
      ]
    },
    {
      "cell_type": "code",
      "source": [
        "def get_device():\n",
        "    \"\"\"Return GPU device if available, or fall back to CPU\"\"\"\n",
        "\n",
        "    return torch.device(\n",
        "        \"cuda\"\n",
        "        if torch.cuda.is_available()\n",
        "        else \"mps\"\n",
        "        if torch.backends.mps.is_available()\n",
        "        else \"cpu\"\n",
        "    )\n",
        "\n",
        "\n",
        "device = get_device()"
      ],
      "metadata": {
        "id": "GyOP037WT2hZ"
      },
      "execution_count": 26,
      "outputs": []
    },
    {
      "cell_type": "code",
      "source": [
        "device = get_device()\n",
        "print(f\"PyTorch {torch.__version__}, using {device} device\")"
      ],
      "metadata": {
        "colab": {
          "base_uri": "https://localhost:8080/"
        },
        "id": "Vyf6mqrATuDK",
        "outputId": "7cd101a1-2e97-4061-e007-d955b3d6658d"
      },
      "execution_count": 27,
      "outputs": [
        {
          "output_type": "stream",
          "name": "stdout",
          "text": [
            "PyTorch 2.6.0+cu124, using cpu device\n"
          ]
        }
      ]
    },
    {
      "cell_type": "code",
      "source": [
        "# Hyperparameters\n",
        "n_epochs = 60  # Number of training iterations on the whole dataset\n",
        "learning_rate = 0.001  # Rate of parameter change during gradient descent"
      ],
      "metadata": {
        "id": "6J7dC5osTvO5"
      },
      "execution_count": 28,
      "outputs": []
    },
    {
      "cell_type": "code",
      "source": [
        "# Toy dataset: inputs and expected results\n",
        "inputs = np.array(\n",
        "[\n",
        "    [3.3],  [4.4], [5.5], [6.71], [6.93], [4.168], [9.779], [6.182],\n",
        "    [7.59], [2.167], [7.042], [10.791], [5.313], [7.997], [3.1],\n",
        "],\n",
        "dtype=np.float32,\n",
        ")\n",
        "targets = np.array(\n",
        "[\n",
        "    [1.7], [2.76], [2.09], [3.19], [1.694], [1.573], [3.366], [2.596],\n",
        "    [2.53], [1.221], [2.827], [3.465], [1.65], [2.904], [1.3],\n",
        "],\n",
        "dtype=np.float32,\n",
        ")\n",
        "\n",
        "print(f\"Inputs: {inputs.shape}. targets: {targets.shape}\")"
      ],
      "metadata": {
        "colab": {
          "base_uri": "https://localhost:8080/"
        },
        "id": "0EG3fX4uVRK5",
        "outputId": "0c5aeb25-0966-4afa-8228-3770ae08d316"
      },
      "execution_count": 29,
      "outputs": [
        {
          "output_type": "stream",
          "name": "stdout",
          "text": [
            "Inputs: (15, 1). targets: (15, 1)\n"
          ]
        }
      ]
    },
    {
      "cell_type": "code",
      "source": [
        "# Convert dataset to PyTorch tensors and put them on GPU memory (if available)\n",
        "x_train = torch.from_numpy(inputs).to(device)\n",
        "y_train = torch.from_numpy(targets).to(device)"
      ],
      "metadata": {
        "id": "DUvMX9idVVBZ"
      },
      "execution_count": 30,
      "outputs": []
    },
    {
      "cell_type": "code",
      "source": [
        "# Create a Linear Regression model and put it on GPU memory\n",
        "model = nn.Linear(in_features=1, out_features=1).to(device)"
      ],
      "metadata": {
        "id": "wXpdWct3VzV7"
      },
      "execution_count": 31,
      "outputs": []
    },
    {
      "cell_type": "code",
      "source": [
        "def get_parameter_count(model):\n",
        "    \"\"\"Return the number of trainable parameters for a PyTorch model\"\"\"\n",
        "\n",
        "    return sum(p.numel() for p in model.parameters() if p.requires_grad)\n",
        "\n",
        "\n",
        "# Print model architecture\n",
        "print(model)\n",
        "\n",
        "# Compute and print parameter count\n",
        "n_params = get_parameter_count(model)\n",
        "print(f\"Model has {n_params} trainable parameters\")\n",
        "# Linear layers have (in_features + 1) * out_features parameters\n",
        "assert n_params == 2"
      ],
      "metadata": {
        "colab": {
          "base_uri": "https://localhost:8080/"
        },
        "id": "3f1M_WynV2mC",
        "outputId": "17981f14-0015-4550-f241-a3bd88065488"
      },
      "execution_count": 32,
      "outputs": [
        {
          "output_type": "stream",
          "name": "stdout",
          "text": [
            "Linear(in_features=1, out_features=1, bias=True)\n",
            "Model has 2 trainable parameters\n"
          ]
        }
      ]
    },
    {
      "cell_type": "code",
      "source": [
        "# Use Mean Squared Error loss\n",
        "criterion = nn.MSELoss()"
      ],
      "metadata": {
        "id": "AH8t6JftWvx6"
      },
      "execution_count": 33,
      "outputs": []
    },
    {
      "cell_type": "code",
      "source": [
        "# Set the model to training mode - important for batch normalization and dropout layers.\n",
        "# Unnecessary here but added for best practices\n",
        "model.train()\n",
        "\n",
        "# Train the model\n",
        "for epoch in range(n_epochs):\n",
        "    # Forward pass\n",
        "    y_pred = model(x_train)\n",
        "\n",
        "    # Compute loss value\n",
        "    loss = criterion(y_pred, y_train)\n",
        "\n",
        "    # Reset the gradients to zero before running the backward pass.\n",
        "    # Avoids accumulating gradients between GD steps\n",
        "    model.zero_grad()\n",
        "\n",
        "    # Compute gradients\n",
        "    loss.backward()\n",
        "\n",
        "    # no_grad() avoids tracking operations history when gradients computation is not needed\n",
        "    with torch.no_grad():\n",
        "        # Manual gradient descent step: update the weights in the opposite direction of their gradient\n",
        "        for param in model.parameters():\n",
        "            param -= learning_rate * param.grad\n",
        "\n",
        "    # Print training progression\n",
        "    if (epoch + 1) % 5 == 0:\n",
        "        print(\n",
        "            f\"Epoch [{(epoch + 1):3}/{n_epochs:3}] finished. Loss: {loss.item():.5f}\"\n",
        "        )"
      ],
      "metadata": {
        "colab": {
          "base_uri": "https://localhost:8080/"
        },
        "id": "1uao5dXMeyqB",
        "outputId": "c9681375-357c-4f9d-f14a-278af0d81232"
      },
      "execution_count": 34,
      "outputs": [
        {
          "output_type": "stream",
          "name": "stdout",
          "text": [
            "Epoch [  5/ 50] finished. Loss: 2.98860\n",
            "Epoch [ 10/ 50] finished. Loss: 1.48246\n",
            "Epoch [ 15/ 50] finished. Loss: 0.87185\n",
            "Epoch [ 20/ 50] finished. Loss: 0.62405\n",
            "Epoch [ 25/ 50] finished. Loss: 0.52323\n",
            "Epoch [ 30/ 50] finished. Loss: 0.48194\n",
            "Epoch [ 35/ 50] finished. Loss: 0.46478\n",
            "Epoch [ 40/ 50] finished. Loss: 0.45740\n",
            "Epoch [ 45/ 50] finished. Loss: 0.45398\n",
            "Epoch [ 50/ 50] finished. Loss: 0.45216\n"
          ]
        }
      ]
    },
    {
      "cell_type": "code",
      "source": [
        "def plot_training_results(model, x, y, title):\n",
        "    \"\"\"\n",
        "    Plot data and model predictions.\n",
        "\n",
        "    Args:\n",
        "        model (torch.nn.Module): Trained PyTorch model\n",
        "        x (torch.Tensor): Input features of shape (n_samples, 2)\n",
        "        y (torch.Tensor): Labels of shape (n_samples,)\n",
        "        title (str): Plot title\n",
        "    \"\"\"\n",
        "    # Set the model to evaluation mode - important for batch normalization and dropout layers.\n",
        "    # Unnecessary here but added for best practices\n",
        "    model.eval()\n",
        "\n",
        "    # Compute model results on training data, and convert them to a NumPy array\n",
        "    y_pred = model(x).detach().cpu().numpy()\n",
        "\n",
        "    # Convert inputs and targets to NumPy arrays\n",
        "    x_cpu = x.detach().cpu().numpy()\n",
        "    y_cpu = y.detach().cpu().numpy()\n",
        "\n",
        "    # Plot the training results\n",
        "    plt.plot(x_cpu, y_cpu, \"ro\", label=\"Original data\")\n",
        "    plt.plot(x_cpu, y_pred, label=\"Fitted line\")\n",
        "    plt.legend()\n",
        "    plt.title(title)\n",
        "\n",
        "    return plt.gcf()"
      ],
      "metadata": {
        "id": "JQsvBTaKgz7Q"
      },
      "execution_count": 36,
      "outputs": []
    },
    {
      "cell_type": "code",
      "source": [
        "# Improve plots appearance\n",
        "sns.set_theme()\n",
        "\n",
        "_ = plot_training_results(\n",
        "    model=model, x=x_train, y=y_train, title=\"Linear Regression with PyTorch\"\n",
        ")\n",
        "plt.show()"
      ],
      "metadata": {
        "colab": {
          "base_uri": "https://localhost:8080/",
          "height": 457
        },
        "id": "fUlgutuBgshY",
        "outputId": "ebb10b4c-04c6-48ad-e8c1-b1fe38df8b09"
      },
      "execution_count": 37,
      "outputs": [
        {
          "output_type": "display_data",
          "data": {
            "text/plain": [
              "<Figure size 640x480 with 1 Axes>"
            ],
            "image/png": "[encoded data removed]"
          },
          "metadata": {}
        }
      ]
    }
  ]
}