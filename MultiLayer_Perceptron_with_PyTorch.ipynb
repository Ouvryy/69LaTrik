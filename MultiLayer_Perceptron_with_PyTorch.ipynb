{
  "nbformat": 4,
  "nbformat_minor": 0,
  "metadata": {
    "colab": {
      "provenance": [],
      "authorship_tag": "ABX9TyN3IbKiGDrrujXqf0A4J7qe",
      "include_colab_link": true
    },
    "kernelspec": {
      "name": "python3",
      "display_name": "Python 3"
    },
    "language_info": {
      "name": "python"
    }
  },
  "cells": [
    {
      "cell_type": "markdown",
      "metadata": {
        "id": "view-in-github",
        "colab_type": "text"
      },
      "source": [
        "<a href=\"https://colab.research.google.com/github/Ouvryy/69LaTrik/blob/main/MultiLayer_Perceptron_with_PyTorch.ipynb\" target=\"_parent\"><img src=\"https://colab.research.google.com/assets/colab-badge.svg\" alt=\"Open In Colab\"/></a>"
      ]
    },
    {
      "cell_type": "code",
      "execution_count": 18,
      "metadata": {
        "id": "2KjWuG35lSp6"
      },
      "outputs": [],
      "source": [
        "import math\n",
        "import numpy as np\n",
        "import matplotlib.pyplot as plt\n",
        "import seaborn as sns\n",
        "from sklearn.datasets import make_circles\n",
        "import torch\n",
        "from torch import nn\n",
        "from torch.utils.data import DataLoader\n",
        "from matplotlib.colors import ListedColormap"
      ]
    },
    {
      "cell_type": "code",
      "source": [
        "def get_device():\n",
        "    \"\"\"Return GPU device if available, or fall back to CPU\"\"\"\n",
        "\n",
        "    return torch.device(\n",
        "        \"cuda\"\n",
        "        if torch.cuda.is_available()\n",
        "        else \"mps\"\n",
        "        if torch.backends.mps.is_available()\n",
        "        else \"cpu\"\n",
        "    )\n",
        "\n",
        "\n",
        "device = get_device()\n",
        "print(f\"PyTorch {torch.__version__}, using {device} device\")"
      ],
      "metadata": {
        "colab": {
          "base_uri": "https://localhost:8080/"
        },
        "id": "ugDSs45LljLb",
        "outputId": "5a7e01b6-92e4-42c0-b809-659ad54b0fcd"
      },
      "execution_count": 19,
      "outputs": [
        {
          "output_type": "stream",
          "name": "stdout",
          "text": [
            "PyTorch 2.6.0+cu124, using cpu device\n"
          ]
        }
      ]
    },
    {
      "cell_type": "code",
      "source": [
        "# Hyperparameters\n",
        "n_samples = 500  # Number of data samples\n",
        "hidden_layer_dim = 3  # Number of neurons on the hidden layer of the MLP\n",
        "n_epochs = 50  # Number of training iterations on the whole dataset\n",
        "learning_rate = 0.1  # Rate of parameter change during gradient descent\n",
        "batch_size = 5  # Number of samples used for one gradient descent step"
      ],
      "metadata": {
        "id": "o3_YJ0C4llKq"
      },
      "execution_count": 20,
      "outputs": []
    },
    {
      "cell_type": "code",
      "source": [
        "# Generate 2D data (a large circle containing a smaller circle)\n",
        "inputs, targets = make_circles(n_samples=n_samples, noise=0.1, factor=0.3)\n",
        "print(f\"Inputs: {inputs.shape}. targets: {targets.shape}\")\n",
        "assert inputs.shape == (n_samples, 2)\n",
        "assert targets.shape == (n_samples,)"
      ],
      "metadata": {
        "colab": {
          "base_uri": "https://localhost:8080/"
        },
        "id": "Fziw09lulmGC",
        "outputId": "821526bd-48eb-44e0-e632-d2d437602d28"
      },
      "execution_count": 21,
      "outputs": [
        {
          "output_type": "stream",
          "name": "stdout",
          "text": [
            "Inputs: (500, 2). targets: (500,)\n"
          ]
        }
      ]
    },
    {
      "cell_type": "code",
      "source": [
        "# Convert inputs to a PyTorch tensor and put it on GPU memory (if available)\n",
        "x_train = torch.from_numpy(inputs).float().to(device)\n",
        "assert x_train.shape == torch.Size([n_samples, 2])\n",
        "\n",
        "# Convert targets to a PyTorch tensor and put it on GPU memory (if available).\n",
        "# PyTorch loss function expects float results of shape (batch_size, 1) instead of (batch_size,).\n",
        "# So we add a new axis and convert them to floats\n",
        "y_train = torch.from_numpy(targets[:, np.newaxis]).float().to(device)\n",
        "assert y_train.shape == torch.Size([n_samples, 1])"
      ],
      "metadata": {
        "id": "l3HGS391lsjy"
      },
      "execution_count": 22,
      "outputs": []
    },
    {
      "cell_type": "code",
      "source": [
        "# Create data loader for loading data as randomized batches\n",
        "train_dataloader = DataLoader(\n",
        "    list(zip(x_train, y_train)), batch_size=batch_size, shuffle=True\n",
        ")\n",
        "\n",
        "# Number of batches in an epoch (= n_samples / batch_size, rounded up)\n",
        "n_batches = len(train_dataloader)\n",
        "assert n_batches == math.ceil(n_samples / batch_size)"
      ],
      "metadata": {
        "id": "yxGodHhrmNQq"
      },
      "execution_count": 23,
      "outputs": []
    },
    {
      "cell_type": "code",
      "source": [
        "# Create a MultiLayer Perceptron with 2 inputs, a hidden layer and 1 output\n",
        "model = nn.Sequential(\n",
        "    # Hidden layer\n",
        "    nn.Linear(in_features=2, out_features=hidden_layer_dim),\n",
        "    # Activation function for the hidden layer\n",
        "    nn.Tanh(),\n",
        "    # Output layer\n",
        "    nn.Linear(in_features=hidden_layer_dim, out_features=1),\n",
        "    # Activation function for the output layer\n",
        "    nn.Sigmoid(),\n",
        ").to(device)\n",
        "\n",
        "# Print model architecture\n",
        "print(model)"
      ],
      "metadata": {
        "colab": {
          "base_uri": "https://localhost:8080/"
        },
        "id": "tSuz1Nj9mysK",
        "outputId": "70cdf2fc-4c1d-4c99-aebe-2ff6c6ab738b"
      },
      "execution_count": 24,
      "outputs": [
        {
          "output_type": "stream",
          "name": "stdout",
          "text": [
            "Sequential(\n",
            "  (0): Linear(in_features=2, out_features=3, bias=True)\n",
            "  (1): Tanh()\n",
            "  (2): Linear(in_features=3, out_features=1, bias=True)\n",
            "  (3): Sigmoid()\n",
            ")\n"
          ]
        }
      ]
    },
    {
      "cell_type": "code",
      "source": [
        "def get_parameter_count(model):\n",
        "    \"\"\"Return the number of trainable parameters for a PyTorch model\"\"\"\n",
        "\n",
        "    return sum(p.numel() for p in model.parameters() if p.requires_grad)\n",
        "\n",
        "\n",
        "# Print model architecture\n",
        "print(model)\n",
        "\n",
        "# Compute and print parameter count\n",
        "n_params = get_parameter_count(model)\n",
        "print(f\"Model has {n_params} trainable parameters\")\n",
        "# Linear layers have (in_features + 1) * out_features parameters\n"
      ],
      "metadata": {
        "colab": {
          "base_uri": "https://localhost:8080/"
        },
        "id": "OJdq7w6um6YJ",
        "outputId": "a4a24424-7479-4116-d0a5-f51a1d0c0092"
      },
      "execution_count": 25,
      "outputs": [
        {
          "output_type": "stream",
          "name": "stdout",
          "text": [
            "Sequential(\n",
            "  (0): Linear(in_features=2, out_features=3, bias=True)\n",
            "  (1): Tanh()\n",
            "  (2): Linear(in_features=3, out_features=1, bias=True)\n",
            "  (3): Sigmoid()\n",
            ")\n",
            "Model has 13 trainable parameters\n"
          ]
        }
      ]
    },
    {
      "cell_type": "code",
      "source": [
        "# Compute and print parameter count\n",
        "n_params = get_parameter_count(model)\n",
        "print(f\"Model has {n_params} trainable parameters\")\n",
        "# Linear layers have (in_features + 1) * out_features parameters.\n",
        "# Hidden layer has (2 + 1) * hidden_layer_dim parameters.\n",
        "# Output layer has (hidden_layer_dim + 1) * 1 parameters\n",
        "assert n_params == 3 * hidden_layer_dim + hidden_layer_dim + 1"
      ],
      "metadata": {
        "colab": {
          "base_uri": "https://localhost:8080/"
        },
        "id": "vmHQUHqim3AS",
        "outputId": "d8ceb41d-d73f-422f-d555-92ba5e1dfc3e"
      },
      "execution_count": 26,
      "outputs": [
        {
          "output_type": "stream",
          "name": "stdout",
          "text": [
            "Model has 13 trainable parameters\n"
          ]
        }
      ]
    },
    {
      "cell_type": "code",
      "source": [
        "# Use binary cross-entropy loss function for this binary classification task\n",
        "criterion = nn.BCELoss()"
      ],
      "metadata": {
        "id": "CYItzz32m966"
      },
      "execution_count": 27,
      "outputs": []
    },
    {
      "cell_type": "code",
      "source": [
        "# Use a vanilla mini-batch stochastic gradient descent optimizer\n",
        "optimizer = torch.optim.SGD(model.parameters(), lr=learning_rate)"
      ],
      "metadata": {
        "id": "bjWRCStlnAFi"
      },
      "execution_count": 28,
      "outputs": []
    },
    {
      "cell_type": "code",
      "source": [
        "# Set the model to training mode - important for batch normalization and dropout layers.\n",
        "# Unnecessary here but added for best practices\n",
        "model.train()\n",
        "\n",
        "# Train the model\n",
        "for epoch in range(n_epochs):\n",
        "    # Total loss for epoch, divided by number of batches to obtain mean loss\n",
        "    epoch_loss = 0\n",
        "\n",
        "    # Number of correct predictions in an epoch, used to compute epoch accuracy\n",
        "    n_correct = 0\n",
        "\n",
        "    # For each batch of data\n",
        "    for x_batch, y_batch in train_dataloader:\n",
        "        # Forward pass\n",
        "        y_pred = model(x_batch)\n",
        "\n",
        "        # Compute loss value\n",
        "        loss = criterion(y_pred, y_batch)\n",
        "\n",
        "        # Gradient descent step\n",
        "        optimizer.zero_grad()\n",
        "        loss.backward()\n",
        "        optimizer.step()\n",
        "\n",
        "        with torch.no_grad():\n",
        "            # Accumulate data for epoch metrics: loss and number of correct predictions\n",
        "            epoch_loss += loss.item()\n",
        "            n_correct += (\n",
        "                (torch.round(model(x_batch)) == y_batch).float().sum().item()\n",
        "            )\n",
        "\n",
        "    # Compute epoch metrics\n",
        "    mean_loss = epoch_loss / n_batches\n",
        "    epoch_acc = n_correct / n_samples\n",
        "\n",
        "    if (epoch + 1) % 5 == 0:\n",
        "        print(\n",
        "            f\"Epoch [{(epoch + 1):3}/{n_epochs:3}] finished. Mean loss: {mean_loss:.5f}. Accuracy: {epoch_acc * 100:.2f}%\"\n",
        "        )"
      ],
      "metadata": {
        "colab": {
          "base_uri": "https://localhost:8080/"
        },
        "id": "N8hNF0jgnFt5",
        "outputId": "35f8e304-86d0-4709-8932-ae09a3d394e7"
      },
      "execution_count": 29,
      "outputs": [
        {
          "output_type": "stream",
          "name": "stdout",
          "text": [
            "Epoch [  5/ 50] finished. Mean loss: 0.66601. Accuracy: 72.80%\n",
            "Epoch [ 10/ 50] finished. Mean loss: 0.46810. Accuracy: 85.00%\n",
            "Epoch [ 15/ 50] finished. Mean loss: 0.38951. Accuracy: 86.00%\n",
            "Epoch [ 20/ 50] finished. Mean loss: 0.18854. Accuracy: 99.60%\n",
            "Epoch [ 25/ 50] finished. Mean loss: 0.11080. Accuracy: 100.00%\n",
            "Epoch [ 30/ 50] finished. Mean loss: 0.08133. Accuracy: 99.80%\n",
            "Epoch [ 35/ 50] finished. Mean loss: 0.06616. Accuracy: 99.60%\n",
            "Epoch [ 40/ 50] finished. Mean loss: 0.05660. Accuracy: 99.60%\n",
            "Epoch [ 45/ 50] finished. Mean loss: 0.04984. Accuracy: 99.60%\n",
            "Epoch [ 50/ 50] finished. Mean loss: 0.04521. Accuracy: 99.60%\n"
          ]
        }
      ]
    },
    {
      "cell_type": "code",
      "source": [
        "def plot_decision_boundaries(model, x, y, title, device):\n",
        "    \"\"\"\n",
        "    Plot the decision boundaries and data points for a PyTorch classifier.\n",
        "\n",
        "    Args:\n",
        "        model (torch.nn.Module): Trained PyTorch model\n",
        "        inputs (torch.Tensor): Input features of shape (n_samples, 2)\n",
        "        targets (torch.Tensor): Labels of shape (n_samples,)\n",
        "        title (str): Plot title\n",
        "        device (torch.device): device where data on model are stored\n",
        "    \"\"\"\n",
        "    # Set the model to evaluation mode - important for batch normalization and dropout layers.\n",
        "    # Unnecessary here but added for best practices\n",
        "    model.eval()\n",
        "\n",
        "    # Convert inputs and targets to NumPy arrays\n",
        "    x_cpu = x.detach().cpu().numpy()\n",
        "    y_cpu = y.detach().cpu().numpy()\n",
        "\n",
        "    # Determine bounds for the grid\n",
        "    x_min, x_max = x_cpu[:, 0].min() - 1, x_cpu[:, 0].max() + 1\n",
        "    y_min, y_max = x_cpu[:, 1].min() - 1, x_cpu[:, 1].max() + 1\n",
        "\n",
        "    # Generate a grid of points with distance h between them\n",
        "    h = 0.02\n",
        "    xx, yy = np.meshgrid(np.arange(x_min, x_max, h), np.arange(y_min, y_max, h))\n",
        "\n",
        "    # Convert mesh to PyTorch tensors and put it on device memory\n",
        "    x_mesh = torch.tensor(np.c_[xx.ravel(), yy.ravel()], dtype=torch.float).to(device)\n",
        "\n",
        "    # Get predictions for mesh points\n",
        "    with torch.no_grad():\n",
        "        y_mesh = model(x_mesh).detach().cpu()\n",
        "        if y_mesh.shape[1] > 1:  # For multi-class problems\n",
        "            y_mesh = torch.argmax(y_mesh, dim=1)\n",
        "\n",
        "            # Reshape predictions to match mesh shape\n",
        "            y_mesh = y_mesh.numpy().reshape(xx.shape)\n",
        "\n",
        "            # Create the plot\n",
        "            plt.figure()\n",
        "\n",
        "            # Plot decision boundaries\n",
        "            plt.contourf(xx, yy, y_mesh, alpha=0.4, cmap=\"RdYlBu\")\n",
        "            plt.contour(xx, yy, y_mesh, colors=\"k\", linewidths=0.5)\n",
        "\n",
        "            # Plot data points\n",
        "            scatter = plt.scatter(\n",
        "                x_cpu[:, 0], x_cpu[:, 1], c=y_cpu, cmap=\"RdYlBu\", linewidth=1, alpha=0.8\n",
        "            )\n",
        "        else:  # For binary classification\n",
        "            # Reshape predictions to match mesh shape\n",
        "            y_mesh = y_mesh.numpy().reshape(xx.shape)\n",
        "\n",
        "            # Create the plot\n",
        "            plt.figure()\n",
        "\n",
        "            # Plot decision boundary\n",
        "            plt.contourf(xx, yy, y_mesh, cmap=plt.colormaps.get_cmap(\"Spectral\"))\n",
        "\n",
        "            # Plot data points\n",
        "            cm_bright = ListedColormap([\"#FF0000\", \"#0000FF\"])\n",
        "            scatter = plt.scatter(x_cpu[:, 0], x_cpu[:, 1], c=y_cpu, cmap=cm_bright)\n",
        "\n",
        "    # Add legend\n",
        "    unique_labels = np.unique(y_cpu)\n",
        "    legend_elements = [\n",
        "        plt.Line2D(\n",
        "            [0],\n",
        "            [0],\n",
        "            marker=\"o\",\n",
        "            color=\"w\",\n",
        "            markerfacecolor=scatter.cmap(scatter.norm(label.item())),\n",
        "            markersize=10,\n",
        "            label=f\"Class {label.item():.0f}\",\n",
        "        )\n",
        "        for label in unique_labels\n",
        "    ]\n",
        "    plt.legend(handles=legend_elements)\n",
        "\n",
        "    plt.title(title)\n",
        "\n",
        "    return plt.gcf()"
      ],
      "metadata": {
        "id": "m_Cc5p14nKDZ"
      },
      "execution_count": 30,
      "outputs": []
    },
    {
      "cell_type": "code",
      "source": [
        "# Improve plots appearance\n",
        "sns.set_theme()\n",
        "\n",
        "_ = plot_decision_boundaries(\n",
        "    model=model,\n",
        "    x=x_train,\n",
        "    y=y_train,\n",
        "    title=f\"MultiLayer Perceptron with PyTorch. Hidden layer dimension: {hidden_layer_dim}\",\n",
        "    device=device,\n",
        ")\n",
        "plt.show()"
      ],
      "metadata": {
        "colab": {
          "base_uri": "https://localhost:8080/",
          "height": 457
        },
        "id": "pwPquyiynLvq",
        "outputId": "55add562-e185-4d28-fbd3-8d4111320aa0"
      },
      "execution_count": 31,
      "outputs": [
        {
          "output_type": "display_data",
          "data": {
            "text/plain": [
              "<Figure size 640x480 with 1 Axes>"
            ],
            "image/png": "[encoded data removed]"
          },
          "metadata": {}
        }
      ]
    }
  ]
}